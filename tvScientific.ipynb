{
 "cells": [
  {
   "cell_type": "code",
   "execution_count": 2,
   "id": "e7bbf809",
   "metadata": {},
   "outputs": [],
   "source": [
    "# tvScientific 15-Minute ML Screen\n",
    "\n",
    "# Note: This document is read-only. Copy the questions into a \n",
    "# Jupyter notebook and print a pdf for submission. \n",
    "# Please keep these questions confidential.\n",
    "\n",
    "## General Guidance\n",
    "#\n",
    "# - Strong candidates will usually be able to finish these questions\n",
    "#   in 15 minutes or less, without using any AI code assistance tools.\n",
    "# - Assume that inputs to the functions you write are sanitized.\n",
    "# - Concise, expressive, functional answers are encouraged.\n",
    "# - You do not need to write documentation, use type annotations, etc.\n",
    "\n",
    "\n",
    "\n",
    "# Q1) Define a function that returns the frequencies of the last digits \n",
    "#     of a list of nonnegative integers. \n",
    "#\n",
    "#     Use only the Python standard libraries.\n",
    "#\n",
    "#     Given the list [49, 10, 20, 5, 30, 785]: \n",
    "#     9 is the last digit once (in 49), \n",
    "#     0 is the last digit three times (in 10, 20, and 30), \n",
    "#     5 is the last digit two times (in 5 and 785) \n",
    "# last_digit_counts([49, 10, 20, 5, 30, 785]) \n",
    "#   = {9:1, 0:3, 5:2} # or something equivalent\n",
    "\n",
    "\n",
    "\n",
    "# Q2) Given a list of 2-D coordinates, write a function that returns True\n",
    "#     if the points lie on a straight line and False otherwise.\n",
    "#\n",
    "#     Use only the Python standard libraries.\n",
    "#\n",
    "# collinear([[1,1], [2,2], [4,4], [-10, -10]]) = True\n",
    "# collinear([[1,0], [2,0], [3,1]]) = False\n",
    "\n",
    "\n",
    "\n",
    "# Q3) If you flip a fair coin 100 times (independently), \n",
    "#     what is the chance that more than 60 flips come up heads? \n",
    "#     Do not try to compute this value exactly; instead, use \n",
    "#     the simplest \"good\" approximation you can come up with.\n",
    "#     You should not write any code for this problem.\n",
    "\n",
    "\n",
    "\n",
    "# Q4) What tools do you use to help you code productively? \n",
    "#     For example, what editor/IDE do you prefer? \n",
    "#     Testing framework? Linter? Command line utilities? \n",
    "#     Other tools you like or recommend to friends?\n",
    "#     Is there something you've discovered recently but haven’t \n",
    "#     had time to learn yet?\n"
   ]
  },
  {
   "cell_type": "markdown",
   "id": "464a6196",
   "metadata": {},
   "source": [
    "### Q1 - Last Digit Frequencies"
   ]
  },
  {
   "cell_type": "code",
   "execution_count": null,
   "id": "39b294f8",
   "metadata": {},
   "outputs": [],
   "source": [
    "def last_digit_counts(numbers: int) -> dict:\n",
    "    counts = {}\n",
    "    for number in numbers:\n",
    "        last_digit = number % 10\n",
    "        if last_digit in counts:\n",
    "            counts[last_digit] += 1\n",
    "        else:\n",
    "            counts[last_digit] = 1\n",
    "    return counts"
   ]
  },
  {
   "cell_type": "markdown",
   "id": "bd36e5a9",
   "metadata": {},
   "source": [
    "### Q2 - Check if points are colliner?"
   ]
  },
  {
   "cell_type": "code",
   "execution_count": null,
   "id": "9ef86311",
   "metadata": {},
   "outputs": [],
   "source": [
    "def is_collinear(points: list) -> bool:\n",
    "    if len(points) <= 2:\n",
    "        return True\n",
    "\n",
    "    x0, y0 = points[0]\n",
    "    x1, y1 = points[1]\n",
    "    \n",
    "    for x, y in points[2:]:\n",
    "        if (y1 - y0) * (x - x0) != (y - y0) * (x1 - x0):\n",
    "            return False\n",
    "    return True"
   ]
  },
  {
   "cell_type": "markdown",
   "id": "800da65a",
   "metadata": {},
   "source": [
    "### Q3 - Probability > 60 heads in 100 coin flips\n",
    "\n",
    "Given this problem is a binomial probability, we let<br>\n",
    "$X \\sim \\text{Binomial}(n=100,p=0.5)$\n",
    "\n",
    "We now want:\n",
    "$$\n",
    "P(X>60)\\approx P(Z > \\frac{60.5-50}{5})=P(Z>2.1)\n",
    "$$\n",
    "Using normal approxiamation with continuity correction: <br>\n",
    "$P(Z>2.1)\\approx 0.0179$, i.e., ~1.8%."
   ]
  },
  {
   "cell_type": "markdown",
   "id": "0651794f",
   "metadata": {},
   "source": [
    "### Q4 - My productive coding tools\n",
    "\n",
    "* Editor/IDE: VSCode and JupyterLab for data and ML work. Sometimes PyCharm.\n",
    "* Linter: ruff\n",
    "* Formatter: black\n",
    "* Type Checker: mypy\n",
    "* Testing: pytest\n",
    "* Version Control: Git and GitHub CLI\n",
    "* Other tools: IPython, poetry\n",
    "* Recent intersts: Ray, Polars"
   ]
  },
  {
   "cell_type": "code",
   "execution_count": null,
   "id": "429e6818",
   "metadata": {},
   "outputs": [],
   "source": []
  },
  {
   "cell_type": "code",
   "execution_count": null,
   "id": "aa6243bb",
   "metadata": {},
   "outputs": [],
   "source": []
  }
 ],
 "metadata": {
  "kernelspec": {
   "display_name": "base",
   "language": "python",
   "name": "python3"
  },
  "language_info": {
   "codemirror_mode": {
    "name": "ipython",
    "version": 3
   },
   "file_extension": ".py",
   "mimetype": "text/x-python",
   "name": "python",
   "nbconvert_exporter": "python",
   "pygments_lexer": "ipython3",
   "version": "3.12.2"
  }
 },
 "nbformat": 4,
 "nbformat_minor": 5
}
